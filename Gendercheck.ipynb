{
 "cells": [
  {
   "cell_type": "code",
   "execution_count": 32,
   "id": "95cd76b2-ec29-4486-9b16-6e6b89641a7d",
   "metadata": {},
   "outputs": [],
   "source": [
    "import tensorflow as tf\n",
    "import numpy as np\n",
    "import os\n",
    "import cv2"
   ]
  },
  {
   "cell_type": "code",
   "execution_count": 33,
   "id": "4264b281-5c24-4824-b756-33ac4bd92144",
   "metadata": {},
   "outputs": [],
   "source": [
    "PATH = \"D:\\\\Projects\\\\AI\\\\ML\\\\Image Recognition\\\\GenderClassification\\\\Training\"\n",
    "PATHT =\"D:\\\\Projects\\\\AI\\\\ML\\\\Image Recognition\\\\GenderClassification\\\\Validation\""
   ]
  },
  {
   "cell_type": "code",
   "execution_count": 34,
   "id": "5011aa9e-2887-4c2e-8f69-50e65d0ef778",
   "metadata": {},
   "outputs": [],
   "source": [
    "def loadFolderImages(folder):\n",
    "    images = []\n",
    "    for filename in os.listdir(folder):\n",
    "        try:\n",
    "            img = cv2.imread(os.path.join(folder,filename))\n",
    "            # img = cv2.cvtColor(img, cv2.COLOR_BGR2GRAY)\n",
    "            if img is not None:\n",
    "                images.append(img)\n",
    "        except:\n",
    "            None\n",
    "    return images"
   ]
  },
  {
   "cell_type": "code",
   "execution_count": 35,
   "id": "5c4beb5b-2b95-416d-90b1-8b8fb65db007",
   "metadata": {},
   "outputs": [],
   "source": [
    "male = PATH+\"\\\\male\"\n",
    "female = PATH+\"\\\\female\"\n",
    "malet = PATHT+\"\\\\male\"\n",
    "femalet = PATHT+\"\\\\female\""
   ]
  },
  {
   "cell_type": "code",
   "execution_count": 36,
   "id": "1a7d9915-bdbe-4ffd-a77d-955c966c4c91",
   "metadata": {},
   "outputs": [],
   "source": [
    "male = loadFolderImages(male)\n",
    "female = loadFolderImages(female)\n",
    "malet = loadFolderImages(malet)\n",
    "femalet = loadFolderImages(femalet)"
   ]
  },
  {
   "cell_type": "code",
   "execution_count": 37,
   "id": "485e1347-ceb9-4a1a-ba42-ceff4578c623",
   "metadata": {},
   "outputs": [],
   "source": [
    "def resize_images(imgs):\n",
    "    resized_images = []\n",
    "    for img in imgs:\n",
    "        resized_img = cv2.resize(img, (70, 90))  \n",
    "        resized_images.append(resized_img)\n",
    "    return resized_images\n",
    "\n",
    "# Resize male and female\n",
    "male = resize_images(male)\n",
    "female = resize_images(female)\n",
    "malet = resize_images(malet)\n",
    "femalet = resize_images(femalet)"
   ]
  },
  {
   "cell_type": "code",
   "execution_count": 38,
   "id": "40c4dc9a-bc3f-4947-8fee-7cd2ec5fe3dd",
   "metadata": {},
   "outputs": [],
   "source": [
    "male = np.array(male)\n",
    "female = np.array(female)\n",
    "malet = np.array(malet)\n",
    "femalet = np.array(femalet)\n",
    "\n",
    "# Normalize images\n",
    "male = male / 255.0\n",
    "female = female / 255.0\n",
    "malet = malet / 255.0\n",
    "femalet = femalet / 255.0"
   ]
  },
  {
   "cell_type": "code",
   "execution_count": 39,
   "id": "770aeaad-6558-4ed3-b27c-3991f5365950",
   "metadata": {},
   "outputs": [],
   "source": [
    "# Create labels for the images: 0 for male, 1 for female\n",
    "male_labels = np.zeros(male.shape[0])\n",
    "female_labels = np.ones(female.shape[0])\n",
    "malet_labels = np.zeros(malet.shape[0])\n",
    "femalet_labels = np.ones(femalet.shape[0])\n",
    "\n",
    "# Concatenate cats and dogs images and labels\n",
    "X_train = np.concatenate((male, female), axis=0)\n",
    "y_train = np.concatenate((male_labels, female_labels), axis=0)\n",
    "X_test = np.concatenate((malet, femalet), axis=0)\n",
    "y_test = np.concatenate((malet_labels, femalet_labels), axis=0)"
   ]
  },
  {
   "cell_type": "code",
   "execution_count": 40,
   "id": "2ab50b2e-52ed-4499-abda-c39a70430c0f",
   "metadata": {},
   "outputs": [
    {
     "data": {
      "text/plain": [
       "(47009, 90, 70, 3)"
      ]
     },
     "execution_count": 40,
     "metadata": {},
     "output_type": "execute_result"
    }
   ],
   "source": [
    "X_train.shape"
   ]
  },
  {
   "cell_type": "code",
   "execution_count": 41,
   "id": "f232bb1e-b769-4165-b830-746008e2daac",
   "metadata": {},
   "outputs": [],
   "source": [
    "from keras.preprocessing.image import ImageDataGenerator\n",
    "\n",
    "# Create an ImageDataGenerator object\n",
    "datagen = ImageDataGenerator(\n",
    "    rotation_range=20,     # Range (0-180) within which to randomly rotate pictures\n",
    "    width_shift_range=0.2, # Fraction of total width to randomly translate images\n",
    "    height_shift_range=0.2,# Fraction of total height to randomly translate images\n",
    "    zoom_range=0.2,        # Range for random zoom\n",
    "    horizontal_flip=True,  # Randomly flip inputs horizontally\n",
    "    vertical_flip=True)    # Randomly flip inputs vertically\n",
    "\n",
    "# Fit the ImageDataGenerator object to your data\n",
    "datagen.fit(X_train)"
   ]
  },
  {
   "cell_type": "code",
   "execution_count": 45,
   "id": "4150509b-6d00-400e-80da-1be839443148",
   "metadata": {},
   "outputs": [],
   "source": [
    "from keras.models import Sequential\n",
    "from keras.layers import Conv2D, MaxPooling2D, Flatten, Dense\n",
    "\n",
    "# Define the model\n",
    "model = Sequential()\n",
    "model.add(Conv2D(32, (3, 3), activation='relu', input_shape=(90, 70, 3)))\n",
    "model.add(MaxPooling2D((2, 2)))\n",
    "model.add(Conv2D(64, (3, 3), activation='relu'))\n",
    "model.add(MaxPooling2D((2, 2)))\n",
    "model.add(Flatten())\n",
    "model.add(Dense(64, activation='relu'))\n",
    "model.add(Dense(1, activation='sigmoid'))  # Use 'sigmoid' for binary classification\n",
    "\n",
    "# Compile the model\n",
    "model.compile(optimizer='adam', loss='binary_crossentropy', metrics=['accuracy'])"
   ]
  },
  {
   "cell_type": "code",
   "execution_count": 46,
   "id": "7a23bc36-8dfe-43b0-adb8-040ae645b655",
   "metadata": {},
   "outputs": [
    {
     "name": "stdout",
     "output_type": "stream",
     "text": [
      "Epoch 1/8\n",
      "1469/1469 [==============================] - 86s 58ms/step - loss: 0.5706 - accuracy: 0.7062 - val_loss: 0.3926 - val_accuracy: 0.8306\n",
      "Epoch 2/8\n",
      "1469/1469 [==============================] - 86s 58ms/step - loss: 0.4589 - accuracy: 0.7898 - val_loss: 0.3027 - val_accuracy: 0.8760\n",
      "Epoch 3/8\n",
      "1469/1469 [==============================] - 87s 59ms/step - loss: 0.3643 - accuracy: 0.8438 - val_loss: 0.2497 - val_accuracy: 0.8990\n",
      "Epoch 4/8\n",
      "1469/1469 [==============================] - 87s 59ms/step - loss: 0.3126 - accuracy: 0.8689 - val_loss: 0.2454 - val_accuracy: 0.9027\n",
      "Epoch 5/8\n",
      "1469/1469 [==============================] - 87s 60ms/step - loss: 0.2835 - accuracy: 0.8842 - val_loss: 0.2225 - val_accuracy: 0.9123\n",
      "Epoch 6/8\n",
      "1469/1469 [==============================] - 85s 58ms/step - loss: 0.2639 - accuracy: 0.8933 - val_loss: 0.1718 - val_accuracy: 0.9353\n",
      "Epoch 7/8\n",
      "1469/1469 [==============================] - 84s 57ms/step - loss: 0.2509 - accuracy: 0.9004 - val_loss: 0.1807 - val_accuracy: 0.9291\n",
      "Epoch 8/8\n",
      "1469/1469 [==============================] - 84s 57ms/step - loss: 0.2473 - accuracy: 0.9013 - val_loss: 0.1977 - val_accuracy: 0.9224\n"
     ]
    }
   ],
   "source": [
    "history = model.fit(datagen.flow(X_train, y_train, batch_size=32),\n",
    "                    steps_per_epoch=len(X_train) / 32, validation_data = (X_test, y_test) , epochs=8)"
   ]
  },
  {
   "cell_type": "code",
   "execution_count": 47,
   "id": "1c767d94-c173-4b78-b1ec-d7f0e4908600",
   "metadata": {},
   "outputs": [
    {
     "data": {
      "image/png": "[encoded data removed]",
      "text/plain": [
       "<Figure size 640x480 with 1 Axes>"
      ]
     },
     "metadata": {},
     "output_type": "display_data"
    },
    {
     "data": {
      "image/png": "[encoded data removed]",
      "text/plain": [
       "<Figure size 640x480 with 1 Axes>"
      ]
     },
     "metadata": {},
     "output_type": "display_data"
    }
   ],
   "source": [
    "import matplotlib.pyplot as plt\n",
    "\n",
    "\n",
    "def plot_graphs(history, string):\n",
    "  plt.plot(history.history[string])\n",
    "  plt.plot(history.history['val_'+string])\n",
    "  plt.xlabel(\"Epochs\")\n",
    "  plt.ylabel(string)\n",
    "  plt.legend([string, 'val_'+string])\n",
    "  plt.show()\n",
    "  \n",
    "plot_graphs(history, \"accuracy\")\n",
    "plot_graphs(history, \"loss\")"
   ]
  },
  {
   "cell_type": "code",
   "execution_count": 48,
   "id": "c5a73632-b1d8-4a49-962f-67b159c8a31a",
   "metadata": {},
   "outputs": [
    {
     "data": {
      "text/plain": [
       "{'loss': [0.5706140995025635,\n",
       "  0.45888373255729675,\n",
       "  0.36425575613975525,\n",
       "  0.31262916326522827,\n",
       "  0.28348299860954285,\n",
       "  0.26388809084892273,\n",
       "  0.2509080469608307,\n",
       "  0.24734577536582947],\n",
       " 'accuracy': [0.7062051892280579,\n",
       "  0.7898274660110474,\n",
       "  0.8437746167182922,\n",
       "  0.8688761591911316,\n",
       "  0.8841924071311951,\n",
       "  0.8933182954788208,\n",
       "  0.9003595113754272,\n",
       "  0.9012742042541504],\n",
       " 'val_loss': [0.3926134705543518,\n",
       "  0.3027306795120239,\n",
       "  0.24965448677539825,\n",
       "  0.24543146789073944,\n",
       "  0.22247537970542908,\n",
       "  0.17182332277297974,\n",
       "  0.18073289096355438,\n",
       "  0.19765517115592957],\n",
       " 'val_accuracy': [0.8306292295455933,\n",
       "  0.8760408759117126,\n",
       "  0.8989613056182861,\n",
       "  0.9027384519577026,\n",
       "  0.9122671484947205,\n",
       "  0.9352734088897705,\n",
       "  0.9290926456451416,\n",
       "  0.9223967790603638]}"
      ]
     },
     "execution_count": 48,
     "metadata": {},
     "output_type": "execute_result"
    }
   ],
   "source": [
    "history.history"
   ]
  },
  {
   "cell_type": "code",
   "execution_count": 49,
   "id": "1e2f8555-5792-45cb-a630-8878f173439a",
   "metadata": {},
   "outputs": [
    {
     "name": "stderr",
     "output_type": "stream",
     "text": [
      "C:\\Python311\\Lib\\site-packages\\keras\\src\\engine\\training.py:3000: UserWarning: You are saving your model as an HDF5 file via `model.save()`. This file format is considered legacy. We recommend using instead the native Keras format, e.g. `model.save('my_model.keras')`.\n",
      "  saving_api.save_model(\n"
     ]
    }
   ],
   "source": [
    "model.save(\"gender-classifier.h5\")"
   ]
  },
  {
   "cell_type": "code",
   "execution_count": 50,
   "id": "f7eab59d-04eb-4c59-a34f-c1fc647467f5",
   "metadata": {},
   "outputs": [
    {
     "name": "stdout",
     "output_type": "stream",
     "text": [
      "Model: \"sequential_11\"\n",
      "_________________________________________________________________\n",
      " Layer (type)                Output Shape              Param #   \n",
      "=================================================================\n",
      " conv2d_22 (Conv2D)          (None, 88, 68, 32)        896       \n",
      "                                                                 \n",
      " max_pooling2d_22 (MaxPooli  (None, 44, 34, 32)        0         \n",
      " ng2D)                                                           \n",
      "                                                                 \n",
      " conv2d_23 (Conv2D)          (None, 42, 32, 64)        18496     \n",
      "                                                                 \n",
      " max_pooling2d_23 (MaxPooli  (None, 21, 16, 64)        0         \n",
      " ng2D)                                                           \n",
      "                                                                 \n",
      " flatten_11 (Flatten)        (None, 21504)             0         \n",
      "                                                                 \n",
      " dense_22 (Dense)            (None, 64)                1376320   \n",
      "                                                                 \n",
      " dense_23 (Dense)            (None, 1)                 65        \n",
      "                                                                 \n",
      "=================================================================\n",
      "Total params: 1395777 (5.32 MB)\n",
      "Trainable params: 1395777 (5.32 MB)\n",
      "Non-trainable params: 0 (0.00 Byte)\n",
      "_________________________________________________________________\n"
     ]
    }
   ],
   "source": [
    "model.summary()"
   ]
  },
  {
   "cell_type": "code",
   "execution_count": null,
   "id": "b3d794b1-9f6c-4d45-b432-ff4b88ef183f",
   "metadata": {},
   "outputs": [],
   "source": []
  }
 ],
 "metadata": {
  "kernelspec": {
   "display_name": "Python 3 (ipykernel)",
   "language": "python",
   "name": "python3"
  },
  "language_info": {
   "codemirror_mode": {
    "name": "ipython",
    "version": 3
   },
   "file_extension": ".py",
   "mimetype": "text/x-python",
   "name": "python",
   "nbconvert_exporter": "python",
   "pygments_lexer": "ipython3",
   "version": "3.11.4"
  }
 },
 "nbformat": 4,
 "nbformat_minor": 5
}
